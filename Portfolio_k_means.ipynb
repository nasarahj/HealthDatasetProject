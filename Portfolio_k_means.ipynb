{
  "nbformat": 4,
  "nbformat_minor": 0,
  "metadata": {
    "colab": {
      "provenance": [],
      "authorship_tag": "ABX9TyOK4GwxXhvKEa5XX3v7yEcm",
      "include_colab_link": true
    },
    "kernelspec": {
      "name": "python3",
      "display_name": "Python 3"
    },
    "language_info": {
      "name": "python"
    }
  },
  "cells": [
    {
      "cell_type": "markdown",
      "metadata": {
        "id": "view-in-github",
        "colab_type": "text"
      },
      "source": [
        "<a href=\"https://colab.research.google.com/github/nasarahj/HealthDatasetProject/blob/main/Portfolio_k_means.ipynb\" target=\"_parent\"><img src=\"https://colab.research.google.com/assets/colab-badge.svg\" alt=\"Open In Colab\"/></a>"
      ]
    },
    {
      "cell_type": "code",
      "source": [
        "import pandas as pd\n",
        "import numpy as np\n",
        "!pip install -U ucimlrepo\n",
        "from ucimlrepo import fetch_ucirepo"
      ],
      "metadata": {
        "colab": {
          "base_uri": "https://localhost:8080/"
        },
        "id": "YjEpg1Cqv0y-",
        "outputId": "83a9b5d3-0f30-48ba-b2e6-c8f3c2b7487d"
      },
      "execution_count": null,
      "outputs": [
        {
          "output_type": "stream",
          "name": "stdout",
          "text": [
            "Collecting ucimlrepo\n",
            "  Downloading ucimlrepo-0.0.7-py3-none-any.whl.metadata (5.5 kB)\n",
            "Requirement already satisfied: pandas>=1.0.0 in /usr/local/lib/python3.12/dist-packages (from ucimlrepo) (2.2.2)\n",
            "Requirement already satisfied: certifi>=2020.12.5 in /usr/local/lib/python3.12/dist-packages (from ucimlrepo) (2025.10.5)\n",
            "Requirement already satisfied: numpy>=1.26.0 in /usr/local/lib/python3.12/dist-packages (from pandas>=1.0.0->ucimlrepo) (2.0.2)\n",
            "Requirement already satisfied: python-dateutil>=2.8.2 in /usr/local/lib/python3.12/dist-packages (from pandas>=1.0.0->ucimlrepo) (2.9.0.post0)\n",
            "Requirement already satisfied: pytz>=2020.1 in /usr/local/lib/python3.12/dist-packages (from pandas>=1.0.0->ucimlrepo) (2025.2)\n",
            "Requirement already satisfied: tzdata>=2022.7 in /usr/local/lib/python3.12/dist-packages (from pandas>=1.0.0->ucimlrepo) (2025.2)\n",
            "Requirement already satisfied: six>=1.5 in /usr/local/lib/python3.12/dist-packages (from python-dateutil>=2.8.2->pandas>=1.0.0->ucimlrepo) (1.17.0)\n",
            "Downloading ucimlrepo-0.0.7-py3-none-any.whl (8.0 kB)\n",
            "Installing collected packages: ucimlrepo\n",
            "Successfully installed ucimlrepo-0.0.7\n"
          ]
        }
      ]
    },
    {
      "cell_type": "code",
      "execution_count": null,
      "metadata": {
        "colab": {
          "base_uri": "https://localhost:8080/"
        },
        "id": "X9Zs4XA9vLKS",
        "outputId": "c8868801-36e7-46f5-83fc-dbf3b20588c0"
      },
      "outputs": [
        {
          "output_type": "stream",
          "name": "stdout",
          "text": [
            "Preview of Data\n",
            "   Age        BMI  Glucose  Insulin      HOMA   Leptin  Adiponectin  Resistin  \\\n",
            "0   48  23.500000       70    2.707  0.467409   8.8071     9.702400   7.99585   \n",
            "1   83  20.690495       92    3.115  0.706897   8.8438     5.429285   4.06405   \n",
            "2   82  23.124670       91    4.498  1.009651  17.9393    22.432040   9.27715   \n",
            "3   68  21.367521       77    3.226  0.612725   9.8827     7.169560  12.76600   \n",
            "4   86  21.111111       92    3.549  0.805386   6.6994     4.819240  10.57635   \n",
            "\n",
            "     MCP.1  Classification  \n",
            "0  417.114               1  \n",
            "1  468.786               1  \n",
            "2  554.697               1  \n",
            "3  928.220               1  \n",
            "4  773.920               1  \n",
            "Variables\n",
            "             name     role        type demographic  \\\n",
            "0             Age  Feature     Integer         Age   \n",
            "1             BMI  Feature  Continuous        None   \n",
            "2         Glucose  Feature     Integer        None   \n",
            "3         Insulin  Feature  Continuous        None   \n",
            "4            HOMA  Feature  Continuous        None   \n",
            "5          Leptin  Feature  Continuous        None   \n",
            "6     Adiponectin  Feature  Continuous        None   \n",
            "7        Resistin  Feature  Continuous        None   \n",
            "8           MCP.1  Feature  Continuous        None   \n",
            "9  Classification   Target     Integer        None   \n",
            "\n",
            "                      description  units missing_values  \n",
            "0                            None   year             no  \n",
            "1                            None  kg/m2             no  \n",
            "2                            None  mg/dL             no  \n",
            "3                            None  µU/mL             no  \n",
            "4                            None   None             no  \n",
            "5                            None  ng/mL             no  \n",
            "6                            None  µU/mL             no  \n",
            "7                            None  ng/mL             no  \n",
            "8                            None  pg/dL             no  \n",
            "9  1=Healthy controls, 2=Patients   None             no  \n",
            "Metadata\n",
            "{'uci_id': 451, 'name': 'Breast Cancer Coimbra', 'repository_url': 'https://archive.ics.uci.edu/dataset/451/breast+cancer+coimbra', 'data_url': 'https://archive.ics.uci.edu/static/public/451/data.csv', 'abstract': 'Clinical features were observed or measured for 64 patients with breast cancer and 52 healthy controls. ', 'area': 'Health and Medicine', 'tasks': ['Classification'], 'characteristics': ['Multivariate'], 'num_instances': 116, 'num_features': 9, 'feature_types': ['Integer'], 'demographics': ['Age'], 'target_col': ['Classification'], 'index_col': None, 'has_missing_values': 'no', 'missing_values_symbol': None, 'year_of_dataset_creation': 2018, 'last_updated': 'Sat Mar 16 2024', 'dataset_doi': '10.24432/C52P59', 'creators': ['Miguel Patrcio', 'Jos Pereira', 'Joana Crisstomo', 'Paulo Matafome', 'Raquel Seia', 'Francisco Caramelo'], 'intro_paper': {'ID': 431, 'type': 'NATIVE', 'title': 'Using Resistin, glucose, age and BMI to predict the presence of breast cancer', 'authors': 'M. Patrício, J. Pereira, J. Crisóstomo, P. Matafome, M. Gomes, Raquel Seiça, F. Caramelo', 'venue': 'BMC Cancer', 'year': 2018, 'journal': None, 'DOI': '10.1186/s12885-017-3877-1', 'URL': 'https://www.semanticscholar.org/paper/0861bd9c3acf6504ce142517c4e05bf8f564f32a', 'sha': None, 'corpus': None, 'arxiv': None, 'mag': None, 'acl': None, 'pmid': None, 'pmcid': None}, 'additional_info': {'summary': 'There are 10 predictors, all quantitative, and a binary dependent variable, indicating the presence or absence of breast cancer. \\r\\nThe predictors are anthropometric data and parameters which can be gathered in routine blood analysis. \\r\\nPrediction models based on these predictors, if accurate, can potentially be used as a biomarker of breast cancer.', 'purpose': None, 'funded_by': None, 'instances_represent': None, 'recommended_data_splits': None, 'sensitive_data': None, 'preprocessing_description': None, 'variable_info': 'Quantitative Attributes: \\r\\nAge (years)\\r\\nBMI (kg/m2)\\r\\nGlucose (mg/dL)\\r\\nInsulin (µU/mL)\\r\\nHOMA\\r\\nLeptin (ng/mL)\\r\\nAdiponectin (µg/mL)\\r\\nResistin (ng/mL)\\r\\nMCP-1(pg/dL)\\r\\n\\r\\nLabels:\\r\\n1=Healthy controls\\r\\n2=Patients', 'citation': None}}\n"
          ]
        }
      ],
      "source": [
        "#Use ID to fetch dataset\n",
        "heart_disease = fetch_ucirepo(id=451)\n",
        "\n",
        "#get features (x) and targets (y) as pandas dataframe\n",
        "x = heart_disease.data.features\n",
        "y = heart_disease.data.targets\n",
        "\n",
        "#combine into one dataset\n",
        "df = pd.concat([x, y], axis=1)\n",
        "\n",
        "#display few rows\n",
        "print('Preview of Data')\n",
        "print(df.head())\n",
        "\n",
        "#get metadata\n",
        "print('Variables')\n",
        "print(heart_disease.variables)\n",
        "print('Metadata')\n",
        "print(heart_disease.metadata)\n",
        "\n"
      ]
    },
    {
      "cell_type": "code",
      "source": [
        "#check for missing data\n",
        "missing_data = df.isnull().sum()\n",
        "print(missing_data)"
      ],
      "metadata": {
        "colab": {
          "base_uri": "https://localhost:8080/"
        },
        "id": "vbs-R1ZyzXio",
        "outputId": "91612009-2572-41c2-e2b8-dcc1f9f041b0"
      },
      "execution_count": null,
      "outputs": [
        {
          "output_type": "stream",
          "name": "stdout",
          "text": [
            "Age               0\n",
            "BMI               0\n",
            "Glucose           0\n",
            "Insulin           0\n",
            "HOMA              0\n",
            "Leptin            0\n",
            "Adiponectin       0\n",
            "Resistin          0\n",
            "MCP.1             0\n",
            "Classification    0\n",
            "dtype: int64\n"
          ]
        }
      ]
    },
    {
      "cell_type": "code",
      "source": [
        "#summary stats\n",
        "print(df.describe())"
      ],
      "metadata": {
        "colab": {
          "base_uri": "https://localhost:8080/"
        },
        "id": "h8B16IUt15Ai",
        "outputId": "f5b6b998-c0f6-4945-ab14-cdd77a0145a9"
      },
      "execution_count": null,
      "outputs": [
        {
          "output_type": "stream",
          "name": "stdout",
          "text": [
            "              Age         BMI     Glucose     Insulin        HOMA      Leptin  \\\n",
            "count  116.000000  116.000000  116.000000  116.000000  116.000000  116.000000   \n",
            "mean    57.301724   27.582111   97.793103   10.012086    2.694988   26.615080   \n",
            "std     16.112766    5.020136   22.525162   10.067768    3.642043   19.183294   \n",
            "min     24.000000   18.370000   60.000000    2.432000    0.467409    4.311000   \n",
            "25%     45.000000   22.973205   85.750000    4.359250    0.917966   12.313675   \n",
            "50%     56.000000   27.662416   92.000000    5.924500    1.380939   20.271000   \n",
            "75%     71.000000   31.241442  102.000000   11.189250    2.857787   37.378300   \n",
            "max     89.000000   38.578759  201.000000   58.460000   25.050342   90.280000   \n",
            "\n",
            "       Adiponectin    Resistin        MCP.1  Classification  \n",
            "count   116.000000  116.000000   116.000000      116.000000  \n",
            "mean     10.180874   14.725966   534.647000        1.551724  \n",
            "std       6.843341   12.390646   345.912663        0.499475  \n",
            "min       1.656020    3.210000    45.843000        1.000000  \n",
            "25%       5.474283    6.881763   269.978250        1.000000  \n",
            "50%       8.352692   10.827740   471.322500        2.000000  \n",
            "75%      11.815970   17.755207   700.085000        2.000000  \n",
            "max      38.040000   82.100000  1698.440000        2.000000  \n"
          ]
        }
      ]
    },
    {
      "cell_type": "code",
      "source": [
        "#There are possible outliers in the Homa, Leptin, Resistin, and MCP.1\n",
        "#columns that I would like to explore\n"
      ],
      "metadata": {
        "id": "SrI_r-7h2Hxw"
      },
      "execution_count": null,
      "outputs": []
    }
  ]
}